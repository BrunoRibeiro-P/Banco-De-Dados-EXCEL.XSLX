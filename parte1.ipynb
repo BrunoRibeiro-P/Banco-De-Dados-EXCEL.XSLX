{
 "cells": [
  {
   "cell_type": "code",
   "execution_count": null,
   "id": "b659983e",
   "metadata": {},
   "outputs": [],
   "source": [
    "import pandas as pd\n",
    "\n",
    "local = input('Digite aqui o local onde deseja guardar o sua planilha: ')\n",
    "#exemplo C:/Users/Bruno/Documents/Python/banco_de_dados/teste.xlsx\n",
    "colunas = int(input('Digite o número de colunas que deseja colocar: '))\n",
    "armazenar = dict()\n",
    "armazenar['data'] = {0: '00/00/0000'}\n",
    "for coluna in range(colunas):\n",
    "    nome_coluna = input(f'Digite o nome da coluna {coluna+1}: ')\n",
    "    armazenar[nome_coluna] = {0: 'invalido'}\n",
    "    \n",
    "df = pd.DataFrame(armazenar)\n",
    "print(df)\n",
    "df.to_excel(local, sheet_name='Teste', na_rep='#N/A', header=True, index=False)\n"
   ]
  },
  {
   "cell_type": "code",
   "execution_count": null,
   "id": "ed6b29a6",
   "metadata": {},
   "outputs": [],
   "source": [
    "data_em_texto = '00/00/0000'\n",
    "data_hoje = None\n",
    "documento_df = armazenar\n",
    "lista_c = []\n",
    "lista_v = []\n",
    "num = 0\n",
    "data_hoje = input('Qual a data de hoje? ')\n",
    "for nome in documento_df:\n",
    "    lista_c.clear()\n",
    "    lista_v.clear()\n",
    "    treinou = input(f'Você treinou com {nome} hoje? [S/N]: ')\n",
    "    for c, v in documento_df[nome].items():\n",
    "        if nome == 'data':\n",
    "            lista_c.append(c)\n",
    "            lista_v.append(v)\n",
    "            if data_hoje != data_em_texto:\n",
    "                lista_c.append(c+1)\n",
    "                lista_v.append(data_hoje)\n",
    "        else:\n",
    "            lista_c.append(c)\n",
    "            lista_v.append(v)\n",
    "            if data_hoje != data_em_texto:\n",
    "                lista_c.append(c+1)\n",
    "                lista_v.append(treinou)\n",
    "                if data_hoje == data_em_texto:\n",
    "                    data_em_texto = data_hoje\n",
    "        documento_df[nome] = dict(zip(lista_c, lista_v))\n",
    "        \n",
    "df = pd.DataFrame(documento_df)\n",
    "display(df)\n",
    "df.to_excel(local, sheet_name='Teste', na_rep='#N/A', header=True, index=False)"
   ]
  }
 ],
 "metadata": {
  "kernelspec": {
   "display_name": "Python 3",
   "language": "python",
   "name": "python3"
  },
  "language_info": {
   "codemirror_mode": {
    "name": "ipython",
    "version": 3
   },
   "file_extension": ".py",
   "mimetype": "text/x-python",
   "name": "python",
   "nbconvert_exporter": "python",
   "pygments_lexer": "ipython3",
   "version": "3.8.8"
  }
 },
 "nbformat": 4,
 "nbformat_minor": 5
}
